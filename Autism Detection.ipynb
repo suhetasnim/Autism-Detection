{
 "cells": [
  {
   "cell_type": "code",
   "execution_count": 44,
   "id": "409c5551",
   "metadata": {},
   "outputs": [],
   "source": [
    "import pandas as pd\n",
    "import numpy as np"
   ]
  },
  {
   "cell_type": "code",
   "execution_count": 45,
   "id": "9b61a06d",
   "metadata": {},
   "outputs": [],
   "source": [
    "df = pd.read_csv(\"csv_result-Autism_Data.csv\")"
   ]
  },
  {
   "cell_type": "code",
   "execution_count": 46,
   "id": "083a56e4",
   "metadata": {},
   "outputs": [
    {
     "data": {
      "text/html": [
       "<div>\n",
       "<style scoped>\n",
       "    .dataframe tbody tr th:only-of-type {\n",
       "        vertical-align: middle;\n",
       "    }\n",
       "\n",
       "    .dataframe tbody tr th {\n",
       "        vertical-align: top;\n",
       "    }\n",
       "\n",
       "    .dataframe thead th {\n",
       "        text-align: right;\n",
       "    }\n",
       "</style>\n",
       "<table border=\"1\" class=\"dataframe\">\n",
       "  <thead>\n",
       "    <tr style=\"text-align: right;\">\n",
       "      <th></th>\n",
       "      <th>id</th>\n",
       "      <th>ore</th>\n",
       "      <th>A2_Score</th>\n",
       "      <th>A3_Score</th>\n",
       "      <th>A4_Score</th>\n",
       "      <th>A5_Score</th>\n",
       "      <th>A6_Score</th>\n",
       "      <th>A7_Score</th>\n",
       "      <th>A8_Score</th>\n",
       "      <th>A9_Score</th>\n",
       "      <th>...</th>\n",
       "      <th>gender</th>\n",
       "      <th>ethnicity</th>\n",
       "      <th>jundice</th>\n",
       "      <th>austim</th>\n",
       "      <th>contry_of_res</th>\n",
       "      <th>used_app_before</th>\n",
       "      <th>result</th>\n",
       "      <th>age_desc</th>\n",
       "      <th>relation</th>\n",
       "      <th>Class/ASD</th>\n",
       "    </tr>\n",
       "  </thead>\n",
       "  <tbody>\n",
       "    <tr>\n",
       "      <th>0</th>\n",
       "      <td>1</td>\n",
       "      <td>1</td>\n",
       "      <td>1</td>\n",
       "      <td>1</td>\n",
       "      <td>1</td>\n",
       "      <td>0</td>\n",
       "      <td>0</td>\n",
       "      <td>1</td>\n",
       "      <td>1</td>\n",
       "      <td>0</td>\n",
       "      <td>...</td>\n",
       "      <td>f</td>\n",
       "      <td>White-European</td>\n",
       "      <td>no</td>\n",
       "      <td>no</td>\n",
       "      <td>United States</td>\n",
       "      <td>no</td>\n",
       "      <td>6</td>\n",
       "      <td>18 and more</td>\n",
       "      <td>Self</td>\n",
       "      <td>NO</td>\n",
       "    </tr>\n",
       "    <tr>\n",
       "      <th>1</th>\n",
       "      <td>2</td>\n",
       "      <td>1</td>\n",
       "      <td>1</td>\n",
       "      <td>0</td>\n",
       "      <td>1</td>\n",
       "      <td>0</td>\n",
       "      <td>0</td>\n",
       "      <td>0</td>\n",
       "      <td>1</td>\n",
       "      <td>0</td>\n",
       "      <td>...</td>\n",
       "      <td>m</td>\n",
       "      <td>Latino</td>\n",
       "      <td>no</td>\n",
       "      <td>yes</td>\n",
       "      <td>Brazil</td>\n",
       "      <td>no</td>\n",
       "      <td>5</td>\n",
       "      <td>18 and more</td>\n",
       "      <td>Self</td>\n",
       "      <td>NO</td>\n",
       "    </tr>\n",
       "    <tr>\n",
       "      <th>2</th>\n",
       "      <td>3</td>\n",
       "      <td>1</td>\n",
       "      <td>1</td>\n",
       "      <td>0</td>\n",
       "      <td>1</td>\n",
       "      <td>1</td>\n",
       "      <td>0</td>\n",
       "      <td>1</td>\n",
       "      <td>1</td>\n",
       "      <td>1</td>\n",
       "      <td>...</td>\n",
       "      <td>m</td>\n",
       "      <td>Latino</td>\n",
       "      <td>yes</td>\n",
       "      <td>yes</td>\n",
       "      <td>Spain</td>\n",
       "      <td>no</td>\n",
       "      <td>8</td>\n",
       "      <td>18 and more</td>\n",
       "      <td>Parent</td>\n",
       "      <td>YES</td>\n",
       "    </tr>\n",
       "    <tr>\n",
       "      <th>3</th>\n",
       "      <td>4</td>\n",
       "      <td>1</td>\n",
       "      <td>1</td>\n",
       "      <td>0</td>\n",
       "      <td>1</td>\n",
       "      <td>0</td>\n",
       "      <td>0</td>\n",
       "      <td>1</td>\n",
       "      <td>1</td>\n",
       "      <td>0</td>\n",
       "      <td>...</td>\n",
       "      <td>f</td>\n",
       "      <td>White-European</td>\n",
       "      <td>no</td>\n",
       "      <td>yes</td>\n",
       "      <td>United States</td>\n",
       "      <td>no</td>\n",
       "      <td>6</td>\n",
       "      <td>18 and more</td>\n",
       "      <td>Self</td>\n",
       "      <td>NO</td>\n",
       "    </tr>\n",
       "    <tr>\n",
       "      <th>4</th>\n",
       "      <td>5</td>\n",
       "      <td>1</td>\n",
       "      <td>0</td>\n",
       "      <td>0</td>\n",
       "      <td>0</td>\n",
       "      <td>0</td>\n",
       "      <td>0</td>\n",
       "      <td>0</td>\n",
       "      <td>1</td>\n",
       "      <td>0</td>\n",
       "      <td>...</td>\n",
       "      <td>f</td>\n",
       "      <td>?</td>\n",
       "      <td>no</td>\n",
       "      <td>no</td>\n",
       "      <td>Egypt</td>\n",
       "      <td>no</td>\n",
       "      <td>2</td>\n",
       "      <td>18 and more</td>\n",
       "      <td>?</td>\n",
       "      <td>NO</td>\n",
       "    </tr>\n",
       "  </tbody>\n",
       "</table>\n",
       "<p>5 rows × 22 columns</p>\n",
       "</div>"
      ],
      "text/plain": [
       "   id  ore  A2_Score  A3_Score  A4_Score  A5_Score  A6_Score  A7_Score  \\\n",
       "0   1    1         1         1         1         0         0         1   \n",
       "1   2    1         1         0         1         0         0         0   \n",
       "2   3    1         1         0         1         1         0         1   \n",
       "3   4    1         1         0         1         0         0         1   \n",
       "4   5    1         0         0         0         0         0         0   \n",
       "\n",
       "   A8_Score  A9_Score  ...  gender       ethnicity jundice austim  \\\n",
       "0         1         0  ...       f  White-European      no     no   \n",
       "1         1         0  ...       m          Latino      no    yes   \n",
       "2         1         1  ...       m          Latino     yes    yes   \n",
       "3         1         0  ...       f  White-European      no    yes   \n",
       "4         1         0  ...       f               ?      no     no   \n",
       "\n",
       "   contry_of_res used_app_before result     age_desc  relation Class/ASD  \n",
       "0  United States              no      6  18 and more      Self        NO  \n",
       "1         Brazil              no      5  18 and more      Self        NO  \n",
       "2          Spain              no      8  18 and more    Parent       YES  \n",
       "3  United States              no      6  18 and more      Self        NO  \n",
       "4          Egypt              no      2  18 and more         ?        NO  \n",
       "\n",
       "[5 rows x 22 columns]"
      ]
     },
     "execution_count": 46,
     "metadata": {},
     "output_type": "execute_result"
    }
   ],
   "source": [
    "df.head()"
   ]
  },
  {
   "cell_type": "code",
   "execution_count": 47,
   "id": "30117dfc",
   "metadata": {},
   "outputs": [
    {
     "name": "stdout",
     "output_type": "stream",
     "text": [
      "<class 'pandas.core.frame.DataFrame'>\n",
      "RangeIndex: 706 entries, 0 to 705\n",
      "Data columns (total 22 columns):\n",
      " #   Column           Non-Null Count  Dtype \n",
      "---  ------           --------------  ----- \n",
      " 0   id               706 non-null    int64 \n",
      " 1   ore              706 non-null    int64 \n",
      " 2   A2_Score         706 non-null    int64 \n",
      " 3   A3_Score         706 non-null    int64 \n",
      " 4   A4_Score         706 non-null    int64 \n",
      " 5   A5_Score         706 non-null    int64 \n",
      " 6   A6_Score         706 non-null    int64 \n",
      " 7   A7_Score         706 non-null    int64 \n",
      " 8   A8_Score         706 non-null    int64 \n",
      " 9   A9_Score         706 non-null    int64 \n",
      " 10  A10_Score        706 non-null    int64 \n",
      " 11  age              706 non-null    object\n",
      " 12  gender           706 non-null    object\n",
      " 13  ethnicity        706 non-null    object\n",
      " 14  jundice          706 non-null    object\n",
      " 15  austim           706 non-null    object\n",
      " 16  contry_of_res    706 non-null    object\n",
      " 17  used_app_before  706 non-null    object\n",
      " 18  result           706 non-null    int64 \n",
      " 19  age_desc         706 non-null    object\n",
      " 20  relation         706 non-null    object\n",
      " 21  Class/ASD        706 non-null    object\n",
      "dtypes: int64(12), object(10)\n",
      "memory usage: 121.5+ KB\n"
     ]
    }
   ],
   "source": [
    "df.info()"
   ]
  },
  {
   "cell_type": "code",
   "execution_count": 48,
   "id": "b54d4131",
   "metadata": {},
   "outputs": [
    {
     "data": {
      "text/html": [
       "<div>\n",
       "<style scoped>\n",
       "    .dataframe tbody tr th:only-of-type {\n",
       "        vertical-align: middle;\n",
       "    }\n",
       "\n",
       "    .dataframe tbody tr th {\n",
       "        vertical-align: top;\n",
       "    }\n",
       "\n",
       "    .dataframe thead th {\n",
       "        text-align: right;\n",
       "    }\n",
       "</style>\n",
       "<table border=\"1\" class=\"dataframe\">\n",
       "  <thead>\n",
       "    <tr style=\"text-align: right;\">\n",
       "      <th></th>\n",
       "      <th>id</th>\n",
       "      <th>ore</th>\n",
       "      <th>A2_Score</th>\n",
       "      <th>A3_Score</th>\n",
       "      <th>A4_Score</th>\n",
       "      <th>A5_Score</th>\n",
       "      <th>A6_Score</th>\n",
       "      <th>A7_Score</th>\n",
       "      <th>A8_Score</th>\n",
       "      <th>A9_Score</th>\n",
       "      <th>A10_Score</th>\n",
       "      <th>result</th>\n",
       "    </tr>\n",
       "  </thead>\n",
       "  <tbody>\n",
       "    <tr>\n",
       "      <th>count</th>\n",
       "      <td>706.000000</td>\n",
       "      <td>706.000000</td>\n",
       "      <td>706.000000</td>\n",
       "      <td>706.000000</td>\n",
       "      <td>706.000000</td>\n",
       "      <td>706.000000</td>\n",
       "      <td>706.000000</td>\n",
       "      <td>706.000000</td>\n",
       "      <td>706.000000</td>\n",
       "      <td>706.000000</td>\n",
       "      <td>706.000000</td>\n",
       "      <td>706.000000</td>\n",
       "    </tr>\n",
       "    <tr>\n",
       "      <th>mean</th>\n",
       "      <td>353.500000</td>\n",
       "      <td>0.722380</td>\n",
       "      <td>0.451841</td>\n",
       "      <td>0.457507</td>\n",
       "      <td>0.497167</td>\n",
       "      <td>0.500000</td>\n",
       "      <td>0.283286</td>\n",
       "      <td>0.419263</td>\n",
       "      <td>0.648725</td>\n",
       "      <td>0.325779</td>\n",
       "      <td>0.575071</td>\n",
       "      <td>4.881020</td>\n",
       "    </tr>\n",
       "    <tr>\n",
       "      <th>std</th>\n",
       "      <td>203.948932</td>\n",
       "      <td>0.448143</td>\n",
       "      <td>0.498028</td>\n",
       "      <td>0.498544</td>\n",
       "      <td>0.500346</td>\n",
       "      <td>0.500354</td>\n",
       "      <td>0.450914</td>\n",
       "      <td>0.493788</td>\n",
       "      <td>0.477707</td>\n",
       "      <td>0.468997</td>\n",
       "      <td>0.494683</td>\n",
       "      <td>2.501065</td>\n",
       "    </tr>\n",
       "    <tr>\n",
       "      <th>min</th>\n",
       "      <td>1.000000</td>\n",
       "      <td>0.000000</td>\n",
       "      <td>0.000000</td>\n",
       "      <td>0.000000</td>\n",
       "      <td>0.000000</td>\n",
       "      <td>0.000000</td>\n",
       "      <td>0.000000</td>\n",
       "      <td>0.000000</td>\n",
       "      <td>0.000000</td>\n",
       "      <td>0.000000</td>\n",
       "      <td>0.000000</td>\n",
       "      <td>0.000000</td>\n",
       "    </tr>\n",
       "    <tr>\n",
       "      <th>25%</th>\n",
       "      <td>177.250000</td>\n",
       "      <td>0.000000</td>\n",
       "      <td>0.000000</td>\n",
       "      <td>0.000000</td>\n",
       "      <td>0.000000</td>\n",
       "      <td>0.000000</td>\n",
       "      <td>0.000000</td>\n",
       "      <td>0.000000</td>\n",
       "      <td>0.000000</td>\n",
       "      <td>0.000000</td>\n",
       "      <td>0.000000</td>\n",
       "      <td>3.000000</td>\n",
       "    </tr>\n",
       "    <tr>\n",
       "      <th>50%</th>\n",
       "      <td>353.500000</td>\n",
       "      <td>1.000000</td>\n",
       "      <td>0.000000</td>\n",
       "      <td>0.000000</td>\n",
       "      <td>0.000000</td>\n",
       "      <td>0.500000</td>\n",
       "      <td>0.000000</td>\n",
       "      <td>0.000000</td>\n",
       "      <td>1.000000</td>\n",
       "      <td>0.000000</td>\n",
       "      <td>1.000000</td>\n",
       "      <td>4.000000</td>\n",
       "    </tr>\n",
       "    <tr>\n",
       "      <th>75%</th>\n",
       "      <td>529.750000</td>\n",
       "      <td>1.000000</td>\n",
       "      <td>1.000000</td>\n",
       "      <td>1.000000</td>\n",
       "      <td>1.000000</td>\n",
       "      <td>1.000000</td>\n",
       "      <td>1.000000</td>\n",
       "      <td>1.000000</td>\n",
       "      <td>1.000000</td>\n",
       "      <td>1.000000</td>\n",
       "      <td>1.000000</td>\n",
       "      <td>7.000000</td>\n",
       "    </tr>\n",
       "    <tr>\n",
       "      <th>max</th>\n",
       "      <td>706.000000</td>\n",
       "      <td>1.000000</td>\n",
       "      <td>1.000000</td>\n",
       "      <td>1.000000</td>\n",
       "      <td>1.000000</td>\n",
       "      <td>1.000000</td>\n",
       "      <td>1.000000</td>\n",
       "      <td>1.000000</td>\n",
       "      <td>1.000000</td>\n",
       "      <td>1.000000</td>\n",
       "      <td>1.000000</td>\n",
       "      <td>10.000000</td>\n",
       "    </tr>\n",
       "  </tbody>\n",
       "</table>\n",
       "</div>"
      ],
      "text/plain": [
       "               id         ore    A2_Score    A3_Score    A4_Score    A5_Score  \\\n",
       "count  706.000000  706.000000  706.000000  706.000000  706.000000  706.000000   \n",
       "mean   353.500000    0.722380    0.451841    0.457507    0.497167    0.500000   \n",
       "std    203.948932    0.448143    0.498028    0.498544    0.500346    0.500354   \n",
       "min      1.000000    0.000000    0.000000    0.000000    0.000000    0.000000   \n",
       "25%    177.250000    0.000000    0.000000    0.000000    0.000000    0.000000   \n",
       "50%    353.500000    1.000000    0.000000    0.000000    0.000000    0.500000   \n",
       "75%    529.750000    1.000000    1.000000    1.000000    1.000000    1.000000   \n",
       "max    706.000000    1.000000    1.000000    1.000000    1.000000    1.000000   \n",
       "\n",
       "         A6_Score    A7_Score    A8_Score    A9_Score   A10_Score      result  \n",
       "count  706.000000  706.000000  706.000000  706.000000  706.000000  706.000000  \n",
       "mean     0.283286    0.419263    0.648725    0.325779    0.575071    4.881020  \n",
       "std      0.450914    0.493788    0.477707    0.468997    0.494683    2.501065  \n",
       "min      0.000000    0.000000    0.000000    0.000000    0.000000    0.000000  \n",
       "25%      0.000000    0.000000    0.000000    0.000000    0.000000    3.000000  \n",
       "50%      0.000000    0.000000    1.000000    0.000000    1.000000    4.000000  \n",
       "75%      1.000000    1.000000    1.000000    1.000000    1.000000    7.000000  \n",
       "max      1.000000    1.000000    1.000000    1.000000    1.000000   10.000000  "
      ]
     },
     "execution_count": 48,
     "metadata": {},
     "output_type": "execute_result"
    }
   ],
   "source": [
    "df.describe()"
   ]
  },
  {
   "cell_type": "code",
   "execution_count": 49,
   "id": "4a04729a",
   "metadata": {},
   "outputs": [
    {
     "data": {
      "text/plain": [
       "id                 0\n",
       "ore                0\n",
       "A2_Score           0\n",
       "A3_Score           0\n",
       "A4_Score           0\n",
       "A5_Score           0\n",
       "A6_Score           0\n",
       "A7_Score           0\n",
       "A8_Score           0\n",
       "A9_Score           0\n",
       "A10_Score          0\n",
       "age                0\n",
       "gender             0\n",
       "ethnicity          0\n",
       "jundice            0\n",
       "austim             0\n",
       "contry_of_res      0\n",
       "used_app_before    0\n",
       "result             0\n",
       "age_desc           0\n",
       "relation           0\n",
       "Class/ASD          0\n",
       "dtype: int64"
      ]
     },
     "execution_count": 49,
     "metadata": {},
     "output_type": "execute_result"
    }
   ],
   "source": [
    "df.isnull().sum()"
   ]
  },
  {
   "cell_type": "code",
   "execution_count": 50,
   "id": "67597997",
   "metadata": {},
   "outputs": [],
   "source": [
    "df.replace(\"?\", np.nan, inplace = True)"
   ]
  },
  {
   "cell_type": "markdown",
   "id": "485a6408",
   "metadata": {},
   "source": [
    "# Data Preprocessing"
   ]
  },
  {
   "cell_type": "code",
   "execution_count": 51,
   "id": "390f30bc",
   "metadata": {},
   "outputs": [],
   "source": [
    "from sklearn import preprocessing"
   ]
  },
  {
   "cell_type": "code",
   "execution_count": 52,
   "id": "b6fc8222",
   "metadata": {},
   "outputs": [
    {
     "data": {
      "text/plain": [
       "array([0, 1])"
      ]
     },
     "execution_count": 52,
     "metadata": {},
     "output_type": "execute_result"
    }
   ],
   "source": [
    "label_encoder = preprocessing.LabelEncoder()\n",
    " \n",
    "df['gender']= label_encoder.fit_transform(df['gender'])\n",
    " \n",
    "df['gender'].unique()"
   ]
  },
  {
   "cell_type": "code",
   "execution_count": 53,
   "id": "cbde0ed8",
   "metadata": {},
   "outputs": [],
   "source": [
    "df['ethnicity']= label_encoder.fit_transform(df['ethnicity'])\n",
    "df['jundice']= label_encoder.fit_transform(df['jundice'])\n",
    "df['austim']= label_encoder.fit_transform(df['austim'])\n",
    "df['contry_of_res']= label_encoder.fit_transform(df['contry_of_res'])\n",
    "df['used_app_before']= label_encoder.fit_transform(df['used_app_before'])\n",
    "df['age_desc']= label_encoder.fit_transform(df['age_desc'])\n",
    "df['relation']= label_encoder.fit_transform(df['relation'])\n",
    "df['Class/ASD']= label_encoder.fit_transform(df['Class/ASD'])\n",
    "df['age']= label_encoder.fit_transform(df['age'])"
   ]
  },
  {
   "cell_type": "code",
   "execution_count": 54,
   "id": "7a3543e4",
   "metadata": {},
   "outputs": [
    {
     "name": "stdout",
     "output_type": "stream",
     "text": [
      "<class 'pandas.core.frame.DataFrame'>\n",
      "RangeIndex: 706 entries, 0 to 705\n",
      "Data columns (total 22 columns):\n",
      " #   Column           Non-Null Count  Dtype\n",
      "---  ------           --------------  -----\n",
      " 0   id               706 non-null    int64\n",
      " 1   ore              706 non-null    int64\n",
      " 2   A2_Score         706 non-null    int64\n",
      " 3   A3_Score         706 non-null    int64\n",
      " 4   A4_Score         706 non-null    int64\n",
      " 5   A5_Score         706 non-null    int64\n",
      " 6   A6_Score         706 non-null    int64\n",
      " 7   A7_Score         706 non-null    int64\n",
      " 8   A8_Score         706 non-null    int64\n",
      " 9   A9_Score         706 non-null    int64\n",
      " 10  A10_Score        706 non-null    int64\n",
      " 11  age              706 non-null    int32\n",
      " 12  gender           706 non-null    int32\n",
      " 13  ethnicity        706 non-null    int32\n",
      " 14  jundice          706 non-null    int32\n",
      " 15  austim           706 non-null    int32\n",
      " 16  contry_of_res    706 non-null    int32\n",
      " 17  used_app_before  706 non-null    int32\n",
      " 18  result           706 non-null    int64\n",
      " 19  age_desc         706 non-null    int32\n",
      " 20  relation         706 non-null    int32\n",
      " 21  Class/ASD        706 non-null    int32\n",
      "dtypes: int32(10), int64(12)\n",
      "memory usage: 93.9 KB\n"
     ]
    }
   ],
   "source": [
    "df.info()"
   ]
  },
  {
   "cell_type": "code",
   "execution_count": 55,
   "id": "2f9aa735",
   "metadata": {},
   "outputs": [
    {
     "data": {
      "text/html": [
       "<div>\n",
       "<style scoped>\n",
       "    .dataframe tbody tr th:only-of-type {\n",
       "        vertical-align: middle;\n",
       "    }\n",
       "\n",
       "    .dataframe tbody tr th {\n",
       "        vertical-align: top;\n",
       "    }\n",
       "\n",
       "    .dataframe thead th {\n",
       "        text-align: right;\n",
       "    }\n",
       "</style>\n",
       "<table border=\"1\" class=\"dataframe\">\n",
       "  <thead>\n",
       "    <tr style=\"text-align: right;\">\n",
       "      <th></th>\n",
       "      <th>id</th>\n",
       "      <th>ore</th>\n",
       "      <th>A2_Score</th>\n",
       "      <th>A3_Score</th>\n",
       "      <th>A4_Score</th>\n",
       "      <th>A5_Score</th>\n",
       "      <th>A6_Score</th>\n",
       "      <th>A7_Score</th>\n",
       "      <th>A8_Score</th>\n",
       "      <th>A9_Score</th>\n",
       "      <th>...</th>\n",
       "      <th>gender</th>\n",
       "      <th>ethnicity</th>\n",
       "      <th>jundice</th>\n",
       "      <th>austim</th>\n",
       "      <th>contry_of_res</th>\n",
       "      <th>used_app_before</th>\n",
       "      <th>result</th>\n",
       "      <th>age_desc</th>\n",
       "      <th>relation</th>\n",
       "      <th>Class/ASD</th>\n",
       "    </tr>\n",
       "  </thead>\n",
       "  <tbody>\n",
       "    <tr>\n",
       "      <th>count</th>\n",
       "      <td>706.000000</td>\n",
       "      <td>706.000000</td>\n",
       "      <td>706.000000</td>\n",
       "      <td>706.000000</td>\n",
       "      <td>706.000000</td>\n",
       "      <td>706.000000</td>\n",
       "      <td>706.000000</td>\n",
       "      <td>706.000000</td>\n",
       "      <td>706.000000</td>\n",
       "      <td>706.000000</td>\n",
       "      <td>...</td>\n",
       "      <td>706.000000</td>\n",
       "      <td>706.000000</td>\n",
       "      <td>706.000000</td>\n",
       "      <td>706.000000</td>\n",
       "      <td>706.000000</td>\n",
       "      <td>706.000000</td>\n",
       "      <td>706.000000</td>\n",
       "      <td>706.0</td>\n",
       "      <td>706.000000</td>\n",
       "      <td>706.000000</td>\n",
       "    </tr>\n",
       "    <tr>\n",
       "      <th>mean</th>\n",
       "      <td>353.500000</td>\n",
       "      <td>0.722380</td>\n",
       "      <td>0.451841</td>\n",
       "      <td>0.457507</td>\n",
       "      <td>0.497167</td>\n",
       "      <td>0.500000</td>\n",
       "      <td>0.283286</td>\n",
       "      <td>0.419263</td>\n",
       "      <td>0.648725</td>\n",
       "      <td>0.325779</td>\n",
       "      <td>...</td>\n",
       "      <td>0.521246</td>\n",
       "      <td>5.930595</td>\n",
       "      <td>0.097734</td>\n",
       "      <td>0.128895</td>\n",
       "      <td>44.018414</td>\n",
       "      <td>0.016997</td>\n",
       "      <td>4.881020</td>\n",
       "      <td>0.0</td>\n",
       "      <td>3.909348</td>\n",
       "      <td>0.269122</td>\n",
       "    </tr>\n",
       "    <tr>\n",
       "      <th>std</th>\n",
       "      <td>203.948932</td>\n",
       "      <td>0.448143</td>\n",
       "      <td>0.498028</td>\n",
       "      <td>0.498544</td>\n",
       "      <td>0.500346</td>\n",
       "      <td>0.500354</td>\n",
       "      <td>0.450914</td>\n",
       "      <td>0.493788</td>\n",
       "      <td>0.477707</td>\n",
       "      <td>0.468997</td>\n",
       "      <td>...</td>\n",
       "      <td>0.499903</td>\n",
       "      <td>3.921861</td>\n",
       "      <td>0.297165</td>\n",
       "      <td>0.335321</td>\n",
       "      <td>19.301077</td>\n",
       "      <td>0.129352</td>\n",
       "      <td>2.501065</td>\n",
       "      <td>0.0</td>\n",
       "      <td>0.777520</td>\n",
       "      <td>0.443818</td>\n",
       "    </tr>\n",
       "    <tr>\n",
       "      <th>min</th>\n",
       "      <td>1.000000</td>\n",
       "      <td>0.000000</td>\n",
       "      <td>0.000000</td>\n",
       "      <td>0.000000</td>\n",
       "      <td>0.000000</td>\n",
       "      <td>0.000000</td>\n",
       "      <td>0.000000</td>\n",
       "      <td>0.000000</td>\n",
       "      <td>0.000000</td>\n",
       "      <td>0.000000</td>\n",
       "      <td>...</td>\n",
       "      <td>0.000000</td>\n",
       "      <td>0.000000</td>\n",
       "      <td>0.000000</td>\n",
       "      <td>0.000000</td>\n",
       "      <td>0.000000</td>\n",
       "      <td>0.000000</td>\n",
       "      <td>0.000000</td>\n",
       "      <td>0.0</td>\n",
       "      <td>0.000000</td>\n",
       "      <td>0.000000</td>\n",
       "    </tr>\n",
       "    <tr>\n",
       "      <th>25%</th>\n",
       "      <td>177.250000</td>\n",
       "      <td>0.000000</td>\n",
       "      <td>0.000000</td>\n",
       "      <td>0.000000</td>\n",
       "      <td>0.000000</td>\n",
       "      <td>0.000000</td>\n",
       "      <td>0.000000</td>\n",
       "      <td>0.000000</td>\n",
       "      <td>0.000000</td>\n",
       "      <td>0.000000</td>\n",
       "      <td>...</td>\n",
       "      <td>0.000000</td>\n",
       "      <td>2.000000</td>\n",
       "      <td>0.000000</td>\n",
       "      <td>0.000000</td>\n",
       "      <td>29.000000</td>\n",
       "      <td>0.000000</td>\n",
       "      <td>3.000000</td>\n",
       "      <td>0.0</td>\n",
       "      <td>4.000000</td>\n",
       "      <td>0.000000</td>\n",
       "    </tr>\n",
       "    <tr>\n",
       "      <th>50%</th>\n",
       "      <td>353.500000</td>\n",
       "      <td>1.000000</td>\n",
       "      <td>0.000000</td>\n",
       "      <td>0.000000</td>\n",
       "      <td>0.000000</td>\n",
       "      <td>0.500000</td>\n",
       "      <td>0.000000</td>\n",
       "      <td>0.000000</td>\n",
       "      <td>1.000000</td>\n",
       "      <td>0.000000</td>\n",
       "      <td>...</td>\n",
       "      <td>1.000000</td>\n",
       "      <td>7.000000</td>\n",
       "      <td>0.000000</td>\n",
       "      <td>0.000000</td>\n",
       "      <td>43.000000</td>\n",
       "      <td>0.000000</td>\n",
       "      <td>4.000000</td>\n",
       "      <td>0.0</td>\n",
       "      <td>4.000000</td>\n",
       "      <td>0.000000</td>\n",
       "    </tr>\n",
       "    <tr>\n",
       "      <th>75%</th>\n",
       "      <td>529.750000</td>\n",
       "      <td>1.000000</td>\n",
       "      <td>1.000000</td>\n",
       "      <td>1.000000</td>\n",
       "      <td>1.000000</td>\n",
       "      <td>1.000000</td>\n",
       "      <td>1.000000</td>\n",
       "      <td>1.000000</td>\n",
       "      <td>1.000000</td>\n",
       "      <td>1.000000</td>\n",
       "      <td>...</td>\n",
       "      <td>1.000000</td>\n",
       "      <td>9.000000</td>\n",
       "      <td>0.000000</td>\n",
       "      <td>0.000000</td>\n",
       "      <td>63.000000</td>\n",
       "      <td>0.000000</td>\n",
       "      <td>7.000000</td>\n",
       "      <td>0.0</td>\n",
       "      <td>4.000000</td>\n",
       "      <td>1.000000</td>\n",
       "    </tr>\n",
       "    <tr>\n",
       "      <th>max</th>\n",
       "      <td>706.000000</td>\n",
       "      <td>1.000000</td>\n",
       "      <td>1.000000</td>\n",
       "      <td>1.000000</td>\n",
       "      <td>1.000000</td>\n",
       "      <td>1.000000</td>\n",
       "      <td>1.000000</td>\n",
       "      <td>1.000000</td>\n",
       "      <td>1.000000</td>\n",
       "      <td>1.000000</td>\n",
       "      <td>...</td>\n",
       "      <td>1.000000</td>\n",
       "      <td>11.000000</td>\n",
       "      <td>1.000000</td>\n",
       "      <td>1.000000</td>\n",
       "      <td>66.000000</td>\n",
       "      <td>1.000000</td>\n",
       "      <td>10.000000</td>\n",
       "      <td>0.0</td>\n",
       "      <td>5.000000</td>\n",
       "      <td>1.000000</td>\n",
       "    </tr>\n",
       "  </tbody>\n",
       "</table>\n",
       "<p>8 rows × 22 columns</p>\n",
       "</div>"
      ],
      "text/plain": [
       "               id         ore    A2_Score    A3_Score    A4_Score    A5_Score  \\\n",
       "count  706.000000  706.000000  706.000000  706.000000  706.000000  706.000000   \n",
       "mean   353.500000    0.722380    0.451841    0.457507    0.497167    0.500000   \n",
       "std    203.948932    0.448143    0.498028    0.498544    0.500346    0.500354   \n",
       "min      1.000000    0.000000    0.000000    0.000000    0.000000    0.000000   \n",
       "25%    177.250000    0.000000    0.000000    0.000000    0.000000    0.000000   \n",
       "50%    353.500000    1.000000    0.000000    0.000000    0.000000    0.500000   \n",
       "75%    529.750000    1.000000    1.000000    1.000000    1.000000    1.000000   \n",
       "max    706.000000    1.000000    1.000000    1.000000    1.000000    1.000000   \n",
       "\n",
       "         A6_Score    A7_Score    A8_Score    A9_Score  ...      gender  \\\n",
       "count  706.000000  706.000000  706.000000  706.000000  ...  706.000000   \n",
       "mean     0.283286    0.419263    0.648725    0.325779  ...    0.521246   \n",
       "std      0.450914    0.493788    0.477707    0.468997  ...    0.499903   \n",
       "min      0.000000    0.000000    0.000000    0.000000  ...    0.000000   \n",
       "25%      0.000000    0.000000    0.000000    0.000000  ...    0.000000   \n",
       "50%      0.000000    0.000000    1.000000    0.000000  ...    1.000000   \n",
       "75%      1.000000    1.000000    1.000000    1.000000  ...    1.000000   \n",
       "max      1.000000    1.000000    1.000000    1.000000  ...    1.000000   \n",
       "\n",
       "        ethnicity     jundice      austim  contry_of_res  used_app_before  \\\n",
       "count  706.000000  706.000000  706.000000     706.000000       706.000000   \n",
       "mean     5.930595    0.097734    0.128895      44.018414         0.016997   \n",
       "std      3.921861    0.297165    0.335321      19.301077         0.129352   \n",
       "min      0.000000    0.000000    0.000000       0.000000         0.000000   \n",
       "25%      2.000000    0.000000    0.000000      29.000000         0.000000   \n",
       "50%      7.000000    0.000000    0.000000      43.000000         0.000000   \n",
       "75%      9.000000    0.000000    0.000000      63.000000         0.000000   \n",
       "max     11.000000    1.000000    1.000000      66.000000         1.000000   \n",
       "\n",
       "           result  age_desc    relation   Class/ASD  \n",
       "count  706.000000     706.0  706.000000  706.000000  \n",
       "mean     4.881020       0.0    3.909348    0.269122  \n",
       "std      2.501065       0.0    0.777520    0.443818  \n",
       "min      0.000000       0.0    0.000000    0.000000  \n",
       "25%      3.000000       0.0    4.000000    0.000000  \n",
       "50%      4.000000       0.0    4.000000    0.000000  \n",
       "75%      7.000000       0.0    4.000000    1.000000  \n",
       "max     10.000000       0.0    5.000000    1.000000  \n",
       "\n",
       "[8 rows x 22 columns]"
      ]
     },
     "execution_count": 55,
     "metadata": {},
     "output_type": "execute_result"
    }
   ],
   "source": [
    "df.describe()"
   ]
  },
  {
   "cell_type": "code",
   "execution_count": 56,
   "id": "0e66a84a",
   "metadata": {},
   "outputs": [],
   "source": [
    "%matplotlib inline\n",
    "import matplotlib.pyplot as plt"
   ]
  },
  {
   "cell_type": "code",
   "execution_count": 57,
   "id": "3384da50",
   "metadata": {},
   "outputs": [
    {
     "data": {
      "text/plain": [
       "array([[<AxesSubplot:title={'center':'id'}>,\n",
       "        <AxesSubplot:title={'center':'ore'}>,\n",
       "        <AxesSubplot:title={'center':'A2_Score'}>,\n",
       "        <AxesSubplot:title={'center':'A3_Score'}>,\n",
       "        <AxesSubplot:title={'center':'A4_Score'}>],\n",
       "       [<AxesSubplot:title={'center':'A5_Score'}>,\n",
       "        <AxesSubplot:title={'center':'A6_Score'}>,\n",
       "        <AxesSubplot:title={'center':'A7_Score'}>,\n",
       "        <AxesSubplot:title={'center':'A8_Score'}>,\n",
       "        <AxesSubplot:title={'center':'A9_Score'}>],\n",
       "       [<AxesSubplot:title={'center':'A10_Score'}>,\n",
       "        <AxesSubplot:title={'center':'age'}>,\n",
       "        <AxesSubplot:title={'center':'gender'}>,\n",
       "        <AxesSubplot:title={'center':'ethnicity'}>,\n",
       "        <AxesSubplot:title={'center':'jundice'}>],\n",
       "       [<AxesSubplot:title={'center':'austim'}>,\n",
       "        <AxesSubplot:title={'center':'contry_of_res'}>,\n",
       "        <AxesSubplot:title={'center':'used_app_before'}>,\n",
       "        <AxesSubplot:title={'center':'result'}>,\n",
       "        <AxesSubplot:title={'center':'age_desc'}>],\n",
       "       [<AxesSubplot:title={'center':'relation'}>,\n",
       "        <AxesSubplot:title={'center':'Class/ASD'}>, <AxesSubplot:>,\n",
       "        <AxesSubplot:>, <AxesSubplot:>]], dtype=object)"
      ]
     },
     "execution_count": 57,
     "metadata": {},
     "output_type": "execute_result"
    },
    {
     "data": {
      "image/png": "[encoded data removed]",
      "text/plain": [
       "<Figure size 1440x1080 with 25 Axes>"
      ]
     },
     "metadata": {
      "needs_background": "light"
     },
     "output_type": "display_data"
    }
   ],
   "source": [
    "df.hist(bins=50, figsize =(20,15))"
   ]
  },
  {
   "cell_type": "markdown",
   "id": "a93f0462",
   "metadata": {},
   "source": [
    "# Looking Co-relation"
   ]
  },
  {
   "cell_type": "code",
   "execution_count": 58,
   "id": "d4ae4b8d",
   "metadata": {},
   "outputs": [],
   "source": [
    "corr_matrix = df.corr()"
   ]
  },
  {
   "cell_type": "code",
   "execution_count": 59,
   "id": "00bcbe40",
   "metadata": {},
   "outputs": [
    {
     "data": {
      "text/plain": [
       "Class/ASD          1.000000\n",
       "result             0.821157\n",
       "A9_Score           0.634446\n",
       "A6_Score           0.589534\n",
       "A5_Score           0.536547\n",
       "A4_Score           0.469730\n",
       "A3_Score           0.442807\n",
       "A10_Score          0.385940\n",
       "A7_Score           0.351710\n",
       "A2_Score           0.308994\n",
       "ore                0.297731\n",
       "A8_Score           0.239125\n",
       "austim             0.176421\n",
       "age                0.121208\n",
       "ethnicity          0.107722\n",
       "jundice            0.101426\n",
       "used_app_before    0.043746\n",
       "id                 0.042044\n",
       "contry_of_res      0.013661\n",
       "relation          -0.056627\n",
       "gender            -0.083348\n",
       "age_desc                NaN\n",
       "Name: Class/ASD, dtype: float64"
      ]
     },
     "execution_count": 59,
     "metadata": {},
     "output_type": "execute_result"
    }
   ],
   "source": [
    "corr_matrix['Class/ASD'].sort_values(ascending=False)"
   ]
  },
  {
   "cell_type": "code",
   "execution_count": 60,
   "id": "e39c443c",
   "metadata": {},
   "outputs": [],
   "source": [
    "from pandas.plotting import scatter_matrix\n"
   ]
  },
  {
   "cell_type": "code",
   "execution_count": 61,
   "id": "1b401b95",
   "metadata": {},
   "outputs": [],
   "source": [
    "attr = [\"Class/ASD\",\"result\",\"A9_Score\",\"A6_Score\",\"A5_Score\",\"A4_Score\",\"A3_Score\",\"gender\",\"relation\"]"
   ]
  },
  {
   "cell_type": "code",
   "execution_count": 62,
   "id": "b56ec999",
   "metadata": {},
   "outputs": [
    {
     "data": {
      "text/plain": [
       "array([[<AxesSubplot:xlabel='Class/ASD', ylabel='Class/ASD'>,\n",
       "        <AxesSubplot:xlabel='result', ylabel='Class/ASD'>,\n",
       "        <AxesSubplot:xlabel='A9_Score', ylabel='Class/ASD'>,\n",
       "        <AxesSubplot:xlabel='A6_Score', ylabel='Class/ASD'>,\n",
       "        <AxesSubplot:xlabel='A5_Score', ylabel='Class/ASD'>,\n",
       "        <AxesSubplot:xlabel='A4_Score', ylabel='Class/ASD'>,\n",
       "        <AxesSubplot:xlabel='A3_Score', ylabel='Class/ASD'>,\n",
       "        <AxesSubplot:xlabel='gender', ylabel='Class/ASD'>,\n",
       "        <AxesSubplot:xlabel='relation', ylabel='Class/ASD'>],\n",
       "       [<AxesSubplot:xlabel='Class/ASD', ylabel='result'>,\n",
       "        <AxesSubplot:xlabel='result', ylabel='result'>,\n",
       "        <AxesSubplot:xlabel='A9_Score', ylabel='result'>,\n",
       "        <AxesSubplot:xlabel='A6_Score', ylabel='result'>,\n",
       "        <AxesSubplot:xlabel='A5_Score', ylabel='result'>,\n",
       "        <AxesSubplot:xlabel='A4_Score', ylabel='result'>,\n",
       "        <AxesSubplot:xlabel='A3_Score', ylabel='result'>,\n",
       "        <AxesSubplot:xlabel='gender', ylabel='result'>,\n",
       "        <AxesSubplot:xlabel='relation', ylabel='result'>],\n",
       "       [<AxesSubplot:xlabel='Class/ASD', ylabel='A9_Score'>,\n",
       "        <AxesSubplot:xlabel='result', ylabel='A9_Score'>,\n",
       "        <AxesSubplot:xlabel='A9_Score', ylabel='A9_Score'>,\n",
       "        <AxesSubplot:xlabel='A6_Score', ylabel='A9_Score'>,\n",
       "        <AxesSubplot:xlabel='A5_Score', ylabel='A9_Score'>,\n",
       "        <AxesSubplot:xlabel='A4_Score', ylabel='A9_Score'>,\n",
       "        <AxesSubplot:xlabel='A3_Score', ylabel='A9_Score'>,\n",
       "        <AxesSubplot:xlabel='gender', ylabel='A9_Score'>,\n",
       "        <AxesSubplot:xlabel='relation', ylabel='A9_Score'>],\n",
       "       [<AxesSubplot:xlabel='Class/ASD', ylabel='A6_Score'>,\n",
       "        <AxesSubplot:xlabel='result', ylabel='A6_Score'>,\n",
       "        <AxesSubplot:xlabel='A9_Score', ylabel='A6_Score'>,\n",
       "        <AxesSubplot:xlabel='A6_Score', ylabel='A6_Score'>,\n",
       "        <AxesSubplot:xlabel='A5_Score', ylabel='A6_Score'>,\n",
       "        <AxesSubplot:xlabel='A4_Score', ylabel='A6_Score'>,\n",
       "        <AxesSubplot:xlabel='A3_Score', ylabel='A6_Score'>,\n",
       "        <AxesSubplot:xlabel='gender', ylabel='A6_Score'>,\n",
       "        <AxesSubplot:xlabel='relation', ylabel='A6_Score'>],\n",
       "       [<AxesSubplot:xlabel='Class/ASD', ylabel='A5_Score'>,\n",
       "        <AxesSubplot:xlabel='result', ylabel='A5_Score'>,\n",
       "        <AxesSubplot:xlabel='A9_Score', ylabel='A5_Score'>,\n",
       "        <AxesSubplot:xlabel='A6_Score', ylabel='A5_Score'>,\n",
       "        <AxesSubplot:xlabel='A5_Score', ylabel='A5_Score'>,\n",
       "        <AxesSubplot:xlabel='A4_Score', ylabel='A5_Score'>,\n",
       "        <AxesSubplot:xlabel='A3_Score', ylabel='A5_Score'>,\n",
       "        <AxesSubplot:xlabel='gender', ylabel='A5_Score'>,\n",
       "        <AxesSubplot:xlabel='relation', ylabel='A5_Score'>],\n",
       "       [<AxesSubplot:xlabel='Class/ASD', ylabel='A4_Score'>,\n",
       "        <AxesSubplot:xlabel='result', ylabel='A4_Score'>,\n",
       "        <AxesSubplot:xlabel='A9_Score', ylabel='A4_Score'>,\n",
       "        <AxesSubplot:xlabel='A6_Score', ylabel='A4_Score'>,\n",
       "        <AxesSubplot:xlabel='A5_Score', ylabel='A4_Score'>,\n",
       "        <AxesSubplot:xlabel='A4_Score', ylabel='A4_Score'>,\n",
       "        <AxesSubplot:xlabel='A3_Score', ylabel='A4_Score'>,\n",
       "        <AxesSubplot:xlabel='gender', ylabel='A4_Score'>,\n",
       "        <AxesSubplot:xlabel='relation', ylabel='A4_Score'>],\n",
       "       [<AxesSubplot:xlabel='Class/ASD', ylabel='A3_Score'>,\n",
       "        <AxesSubplot:xlabel='result', ylabel='A3_Score'>,\n",
       "        <AxesSubplot:xlabel='A9_Score', ylabel='A3_Score'>,\n",
       "        <AxesSubplot:xlabel='A6_Score', ylabel='A3_Score'>,\n",
       "        <AxesSubplot:xlabel='A5_Score', ylabel='A3_Score'>,\n",
       "        <AxesSubplot:xlabel='A4_Score', ylabel='A3_Score'>,\n",
       "        <AxesSubplot:xlabel='A3_Score', ylabel='A3_Score'>,\n",
       "        <AxesSubplot:xlabel='gender', ylabel='A3_Score'>,\n",
       "        <AxesSubplot:xlabel='relation', ylabel='A3_Score'>],\n",
       "       [<AxesSubplot:xlabel='Class/ASD', ylabel='gender'>,\n",
       "        <AxesSubplot:xlabel='result', ylabel='gender'>,\n",
       "        <AxesSubplot:xlabel='A9_Score', ylabel='gender'>,\n",
       "        <AxesSubplot:xlabel='A6_Score', ylabel='gender'>,\n",
       "        <AxesSubplot:xlabel='A5_Score', ylabel='gender'>,\n",
       "        <AxesSubplot:xlabel='A4_Score', ylabel='gender'>,\n",
       "        <AxesSubplot:xlabel='A3_Score', ylabel='gender'>,\n",
       "        <AxesSubplot:xlabel='gender', ylabel='gender'>,\n",
       "        <AxesSubplot:xlabel='relation', ylabel='gender'>],\n",
       "       [<AxesSubplot:xlabel='Class/ASD', ylabel='relation'>,\n",
       "        <AxesSubplot:xlabel='result', ylabel='relation'>,\n",
       "        <AxesSubplot:xlabel='A9_Score', ylabel='relation'>,\n",
       "        <AxesSubplot:xlabel='A6_Score', ylabel='relation'>,\n",
       "        <AxesSubplot:xlabel='A5_Score', ylabel='relation'>,\n",
       "        <AxesSubplot:xlabel='A4_Score', ylabel='relation'>,\n",
       "        <AxesSubplot:xlabel='A3_Score', ylabel='relation'>,\n",
       "        <AxesSubplot:xlabel='gender', ylabel='relation'>,\n",
       "        <AxesSubplot:xlabel='relation', ylabel='relation'>]], dtype=object)"
      ]
     },
     "execution_count": 62,
     "metadata": {},
     "output_type": "execute_result"
    },
    {
     "data": {
      "image/png": "[encoded data removed]",
      "text/plain": [
       "<Figure size 864x576 with 81 Axes>"
      ]
     },
     "metadata": {
      "needs_background": "light"
     },
     "output_type": "display_data"
    }
   ],
   "source": [
    "scatter_matrix(df[attr],figsize= (12,8))"
   ]
  },
  {
   "cell_type": "markdown",
   "id": "cf4a29db",
   "metadata": {},
   "source": [
    "# Splitting dataset"
   ]
  },
  {
   "cell_type": "code",
   "execution_count": 63,
   "id": "45e3784c",
   "metadata": {},
   "outputs": [],
   "source": [
    "from sklearn.model_selection import train_test_split"
   ]
  },
  {
   "cell_type": "code",
   "execution_count": 64,
   "id": "6daa7155",
   "metadata": {},
   "outputs": [],
   "source": [
    "train_set ,test_set = train_test_split(df, test_size=0.3,random_state=42)"
   ]
  },
  {
   "cell_type": "code",
   "execution_count": 65,
   "id": "d2079e2a",
   "metadata": {},
   "outputs": [
    {
     "name": "stdout",
     "output_type": "stream",
     "text": [
      "Rows in train set:  494\n",
      "Rows in test set:  212\n"
     ]
    }
   ],
   "source": [
    "print(\"Rows in train set: \",len(train_set))\n",
    "print(\"Rows in test set: \",len(test_set))"
   ]
  },
  {
   "cell_type": "code",
   "execution_count": 66,
   "id": "4d2087d9",
   "metadata": {},
   "outputs": [],
   "source": [
    "df = train_set.drop([\"Class/ASD\",\"age_desc\",\"used_app_before\",\"id\"],axis=1)\n",
    "df_label = train_set[\"Class/ASD\"].copy()"
   ]
  },
  {
   "cell_type": "markdown",
   "id": "39048e5f",
   "metadata": {},
   "source": [
    "# Creating pipeline"
   ]
  },
  {
   "cell_type": "code",
   "execution_count": 67,
   "id": "1fa54319",
   "metadata": {},
   "outputs": [],
   "source": [
    "from sklearn.impute import SimpleImputer"
   ]
  },
  {
   "cell_type": "code",
   "execution_count": 68,
   "id": "b0215dec",
   "metadata": {},
   "outputs": [
    {
     "data": {
      "text/plain": [
       "SimpleImputer(strategy='median')"
      ]
     },
     "execution_count": 68,
     "metadata": {},
     "output_type": "execute_result"
    }
   ],
   "source": [
    "imputer = SimpleImputer(missing_values=np.nan, strategy='median')\n",
    "imputer.fit(df)"
   ]
  },
  {
   "cell_type": "code",
   "execution_count": 69,
   "id": "6a9504ff",
   "metadata": {},
   "outputs": [],
   "source": [
    "from sklearn.pipeline import Pipeline\n",
    "from sklearn.preprocessing import StandardScaler\n",
    "my_pipeline =Pipeline([\n",
    "    ('imputer', SimpleImputer(strategy ='median')),\n",
    "    ('std_scaler',StandardScaler())\n",
    "])"
   ]
  },
  {
   "cell_type": "code",
   "execution_count": 70,
   "id": "34105663",
   "metadata": {},
   "outputs": [],
   "source": [
    "df_num = my_pipeline.fit_transform(df)"
   ]
  },
  {
   "cell_type": "code",
   "execution_count": 71,
   "id": "17338c41",
   "metadata": {},
   "outputs": [
    {
     "data": {
      "text/plain": [
       "array([[ 0.61635077, -0.89605787, -0.92959719, ..., -0.7394607 ,\n",
       "        -0.74118058,  0.10161736],\n",
       "       [-1.62245275,  1.11599935, -0.92959719, ..., -0.94502828,\n",
       "        -1.14221366, -2.54043389],\n",
       "       [-1.62245275,  1.11599935, -0.92959719, ..., -1.51033912,\n",
       "         0.46191867, -2.54043389],\n",
       "       ...,\n",
       "       [ 0.61635077, -0.89605787,  1.07573474, ...,  0.39116098,\n",
       "         0.86295175,  1.42264298],\n",
       "       [-1.62245275, -0.89605787,  1.07573474, ...,  0.95647182,\n",
       "        -1.14221366,  0.10161736],\n",
       "       [ 0.61635077, -0.89605787, -0.92959719, ..., -0.01997418,\n",
       "        -0.74118058,  0.10161736]])"
      ]
     },
     "execution_count": 71,
     "metadata": {},
     "output_type": "execute_result"
    }
   ],
   "source": [
    "df_num"
   ]
  },
  {
   "cell_type": "markdown",
   "id": "34bd2152",
   "metadata": {},
   "source": [
    "# Model training"
   ]
  },
  {
   "cell_type": "code",
   "execution_count": 72,
   "id": "aa787ad7",
   "metadata": {},
   "outputs": [],
   "source": [
    "from sklearn.tree import DecisionTreeClassifier\n",
    "from sklearn.ensemble import RandomForestClassifier\n",
    "from sklearn.linear_model import LogisticRegression\n",
    "from sklearn.neighbors import KNeighborsClassifier\n",
    "from sklearn.svm import SVC\n",
    "from sklearn.linear_model import SGDClassifier\n",
    "from sklearn.naive_bayes import GaussianNB\n",
    "\n",
    "model1 = KNeighborsClassifier()\n",
    "model2 =LogisticRegression()\n",
    "model3 =DecisionTreeClassifier()\n",
    "model4 =RandomForestClassifier()\n",
    "model5 = SVC()\n",
    "model6 = SGDClassifier()\n",
    "model7 = GaussianNB()"
   ]
  },
  {
   "cell_type": "code",
   "execution_count": 73,
   "id": "70afb1a8",
   "metadata": {},
   "outputs": [
    {
     "data": {
      "text/plain": [
       "KNeighborsClassifier()"
      ]
     },
     "execution_count": 73,
     "metadata": {},
     "output_type": "execute_result"
    }
   ],
   "source": [
    "model1.fit(df_num,df_label)"
   ]
  },
  {
   "cell_type": "code",
   "execution_count": 74,
   "id": "92d191a9",
   "metadata": {},
   "outputs": [
    {
     "data": {
      "text/plain": [
       "LogisticRegression()"
      ]
     },
     "execution_count": 74,
     "metadata": {},
     "output_type": "execute_result"
    }
   ],
   "source": [
    "model2.fit(df_num,df_label)"
   ]
  },
  {
   "cell_type": "code",
   "execution_count": 75,
   "id": "e36f8322",
   "metadata": {},
   "outputs": [
    {
     "data": {
      "text/plain": [
       "DecisionTreeClassifier()"
      ]
     },
     "execution_count": 75,
     "metadata": {},
     "output_type": "execute_result"
    }
   ],
   "source": [
    "model3.fit(df_num,df_label)"
   ]
  },
  {
   "cell_type": "code",
   "execution_count": 76,
   "id": "1beba655",
   "metadata": {},
   "outputs": [
    {
     "data": {
      "text/plain": [
       "RandomForestClassifier()"
      ]
     },
     "execution_count": 76,
     "metadata": {},
     "output_type": "execute_result"
    }
   ],
   "source": [
    "model4.fit(df_num,df_label)"
   ]
  },
  {
   "cell_type": "code",
   "execution_count": 77,
   "id": "fad7f72a",
   "metadata": {},
   "outputs": [
    {
     "data": {
      "text/plain": [
       "SVC()"
      ]
     },
     "execution_count": 77,
     "metadata": {},
     "output_type": "execute_result"
    }
   ],
   "source": [
    "model5.fit(df_num,df_label)"
   ]
  },
  {
   "cell_type": "code",
   "execution_count": 78,
   "id": "887c6b90",
   "metadata": {},
   "outputs": [
    {
     "data": {
      "text/plain": [
       "SGDClassifier()"
      ]
     },
     "execution_count": 78,
     "metadata": {},
     "output_type": "execute_result"
    }
   ],
   "source": [
    "model6.fit(df_num,df_label)"
   ]
  },
  {
   "cell_type": "code",
   "execution_count": 79,
   "id": "c5ff1454",
   "metadata": {},
   "outputs": [
    {
     "data": {
      "text/plain": [
       "GaussianNB()"
      ]
     },
     "execution_count": 79,
     "metadata": {},
     "output_type": "execute_result"
    }
   ],
   "source": [
    "model7.fit(df_num,df_label)"
   ]
  },
  {
   "cell_type": "markdown",
   "id": "e108b06a",
   "metadata": {},
   "source": [
    "# Evaluation"
   ]
  },
  {
   "cell_type": "code",
   "execution_count": 80,
   "id": "161e764c",
   "metadata": {},
   "outputs": [],
   "source": [
    "from sklearn.metrics import mean_squared_error\n",
    "from sklearn.metrics import accuracy_score\n",
    "df_pred = model1.predict(df_num)\n",
    "score = accuracy_score(df_label, df_pred)*100\n",
    "lin_mse = mean_squared_error(df_label,df_pred)\n",
    "lin_rmse = np.sqrt(lin_mse)"
   ]
  },
  {
   "cell_type": "code",
   "execution_count": 81,
   "id": "554a6fae",
   "metadata": {},
   "outputs": [
    {
     "data": {
      "text/plain": [
       "97.16599190283401"
      ]
     },
     "execution_count": 81,
     "metadata": {},
     "output_type": "execute_result"
    }
   ],
   "source": [
    "score"
   ]
  },
  {
   "cell_type": "code",
   "execution_count": 82,
   "id": "02c67510",
   "metadata": {},
   "outputs": [],
   "source": [
    "from sklearn.metrics import mean_squared_error\n",
    "from sklearn.metrics import accuracy_score\n",
    "df_pred = model2.predict(df_num)\n",
    "score = accuracy_score(df_label, df_pred)*100\n",
    "lin_mse = mean_squared_error(df_label,df_pred)\n",
    "lin_rmse = np.sqrt(lin_mse)"
   ]
  },
  {
   "cell_type": "code",
   "execution_count": 83,
   "id": "31f797c4",
   "metadata": {},
   "outputs": [
    {
     "data": {
      "text/plain": [
       "100.0"
      ]
     },
     "execution_count": 83,
     "metadata": {},
     "output_type": "execute_result"
    }
   ],
   "source": [
    "score"
   ]
  },
  {
   "cell_type": "code",
   "execution_count": 84,
   "id": "801c73cf",
   "metadata": {},
   "outputs": [],
   "source": [
    "from sklearn.metrics import mean_squared_error\n",
    "from sklearn.metrics import accuracy_score\n",
    "df_pred = model3.predict(df_num)\n",
    "score = accuracy_score(df_label, df_pred)*100\n",
    "lin_mse = mean_squared_error(df_label,df_pred)\n",
    "lin_rmse = np.sqrt(lin_mse)"
   ]
  },
  {
   "cell_type": "code",
   "execution_count": 85,
   "id": "ecd6b269",
   "metadata": {},
   "outputs": [
    {
     "data": {
      "text/plain": [
       "100.0"
      ]
     },
     "execution_count": 85,
     "metadata": {},
     "output_type": "execute_result"
    }
   ],
   "source": [
    "score"
   ]
  },
  {
   "cell_type": "code",
   "execution_count": 86,
   "id": "ef88a801",
   "metadata": {},
   "outputs": [],
   "source": [
    "from sklearn.metrics import mean_squared_error\n",
    "from sklearn.metrics import accuracy_score\n",
    "df_pred = model4.predict(df_num)\n",
    "score = accuracy_score(df_label, df_pred)*100\n",
    "lin_mse = mean_squared_error(df_label,df_pred)\n",
    "lin_rmse = np.sqrt(lin_mse)"
   ]
  },
  {
   "cell_type": "code",
   "execution_count": 87,
   "id": "67519978",
   "metadata": {},
   "outputs": [
    {
     "data": {
      "text/plain": [
       "100.0"
      ]
     },
     "execution_count": 87,
     "metadata": {},
     "output_type": "execute_result"
    }
   ],
   "source": [
    "score"
   ]
  },
  {
   "cell_type": "code",
   "execution_count": 88,
   "id": "0bd39dd9",
   "metadata": {},
   "outputs": [],
   "source": [
    "from sklearn.metrics import mean_squared_error\n",
    "from sklearn.metrics import accuracy_score\n",
    "df_pred = model5.predict(df_num)\n",
    "score = accuracy_score(df_label, df_pred)*100\n",
    "lin_mse = mean_squared_error(df_label,df_pred)\n",
    "lin_rmse = np.sqrt(lin_mse)"
   ]
  },
  {
   "cell_type": "code",
   "execution_count": 89,
   "id": "8c02b6c7",
   "metadata": {},
   "outputs": [
    {
     "data": {
      "text/plain": [
       "99.79757085020243"
      ]
     },
     "execution_count": 89,
     "metadata": {},
     "output_type": "execute_result"
    }
   ],
   "source": [
    "score"
   ]
  },
  {
   "cell_type": "code",
   "execution_count": 90,
   "id": "546c7b15",
   "metadata": {},
   "outputs": [],
   "source": [
    "from sklearn.metrics import mean_squared_error\n",
    "from sklearn.metrics import accuracy_score\n",
    "df_pred = model6.predict(df_num)\n",
    "score = accuracy_score(df_label, df_pred)*100\n",
    "lin_mse = mean_squared_error(df_label,df_pred)\n",
    "lin_rmse = np.sqrt(lin_mse)"
   ]
  },
  {
   "cell_type": "code",
   "execution_count": 91,
   "id": "ab64be17",
   "metadata": {},
   "outputs": [
    {
     "data": {
      "text/plain": [
       "99.79757085020243"
      ]
     },
     "execution_count": 91,
     "metadata": {},
     "output_type": "execute_result"
    }
   ],
   "source": [
    "score"
   ]
  },
  {
   "cell_type": "code",
   "execution_count": 92,
   "id": "1dced58f",
   "metadata": {},
   "outputs": [],
   "source": [
    "from sklearn.metrics import mean_squared_error\n",
    "from sklearn.metrics import accuracy_score\n",
    "df_pred = model7.predict(df_num)\n",
    "score = accuracy_score(df_label, df_pred)*100\n",
    "lin_mse = mean_squared_error(df_label,df_pred)\n",
    "lin_rmse = np.sqrt(lin_mse)"
   ]
  },
  {
   "cell_type": "code",
   "execution_count": 93,
   "id": "1e3a75ba",
   "metadata": {},
   "outputs": [
    {
     "data": {
      "text/plain": [
       "97.36842105263158"
      ]
     },
     "execution_count": 93,
     "metadata": {},
     "output_type": "execute_result"
    }
   ],
   "source": [
    "score"
   ]
  },
  {
   "cell_type": "code",
   "execution_count": null,
   "id": "991ddcff",
   "metadata": {},
   "outputs": [],
   "source": []
  },
  {
   "cell_type": "code",
   "execution_count": 154,
   "id": "ec670ff5",
   "metadata": {},
   "outputs": [
    {
     "data": {
      "text/plain": [
       "100.0"
      ]
     },
     "execution_count": 154,
     "metadata": {},
     "output_type": "execute_result"
    }
   ],
   "source": [
    "score"
   ]
  },
  {
   "cell_type": "code",
   "execution_count": 155,
   "id": "8bbb10db",
   "metadata": {},
   "outputs": [
    {
     "data": {
      "text/plain": [
       "0.0"
      ]
     },
     "execution_count": 155,
     "metadata": {},
     "output_type": "execute_result"
    }
   ],
   "source": [
    "lin_mse"
   ]
  },
  {
   "cell_type": "code",
   "execution_count": 156,
   "id": "ab3eae18",
   "metadata": {},
   "outputs": [
    {
     "data": {
      "text/plain": [
       "0.0"
      ]
     },
     "execution_count": 156,
     "metadata": {},
     "output_type": "execute_result"
    }
   ],
   "source": [
    "lin_rmse"
   ]
  },
  {
   "cell_type": "code",
   "execution_count": 157,
   "id": "04287959",
   "metadata": {},
   "outputs": [],
   "source": [
    "from sklearn.model_selection import cross_val_score\n",
    "scores =cross_val_score(model,df_num,df_label,scoring='neg_mean_squared_error',cv=10)\n",
    "rmse = np.sqrt(-scores)"
   ]
  },
  {
   "cell_type": "code",
   "execution_count": 158,
   "id": "0b939e87",
   "metadata": {},
   "outputs": [
    {
     "data": {
      "text/plain": [
       "array([0., 0., 0., 0., 0., 0., 0., 0., 0., 0.])"
      ]
     },
     "execution_count": 158,
     "metadata": {},
     "output_type": "execute_result"
    }
   ],
   "source": [
    "rmse"
   ]
  },
  {
   "cell_type": "code",
   "execution_count": 159,
   "id": "1e7983ec",
   "metadata": {},
   "outputs": [],
   "source": [
    "def print_scores(scores):\n",
    "    print(\"Scores: \", scores)\n",
    "    print(\"Mean: \",scores.mean())\n",
    "    print(\"Strandard Deviation: \",scores.std())"
   ]
  },
  {
   "cell_type": "code",
   "execution_count": 160,
   "id": "b5570290",
   "metadata": {},
   "outputs": [
    {
     "name": "stdout",
     "output_type": "stream",
     "text": [
      "Scores:  0.0\n",
      "Mean:  0.0\n",
      "Strandard Deviation:  0.0\n"
     ]
    }
   ],
   "source": [
    "print_scores(lin_mse)"
   ]
  },
  {
   "cell_type": "code",
   "execution_count": 161,
   "id": "55201790",
   "metadata": {},
   "outputs": [
    {
     "data": {
      "text/plain": [
       "['autism.joblib']"
      ]
     },
     "execution_count": 161,
     "metadata": {},
     "output_type": "execute_result"
    }
   ],
   "source": [
    "from joblib import dump,load\n",
    "dump(model,'autism.joblib')"
   ]
  },
  {
   "cell_type": "code",
   "execution_count": 162,
   "id": "7a87eb11",
   "metadata": {},
   "outputs": [],
   "source": [
    "X_test =test_set.drop([\"Class/ASD\",\"age_desc\",\"used_app_before\",\"id\"],axis=1)\n",
    "Y_test =test_set['Class/ASD'].copy()"
   ]
  },
  {
   "cell_type": "code",
   "execution_count": 163,
   "id": "e2b066de",
   "metadata": {},
   "outputs": [],
   "source": [
    "X_test_prepared = my_pipeline.transform(X_test)"
   ]
  },
  {
   "cell_type": "code",
   "execution_count": 164,
   "id": "a081215a",
   "metadata": {},
   "outputs": [],
   "source": [
    "final_predictions =model.predict(X_test_prepared)\n",
    "final_mse =mean_squared_error(Y_test,final_predictions)\n",
    "final_rmse = np.sqrt(final_mse)"
   ]
  },
  {
   "cell_type": "code",
   "execution_count": 165,
   "id": "822c28cf",
   "metadata": {},
   "outputs": [
    {
     "data": {
      "text/plain": [
       "0.0"
      ]
     },
     "execution_count": 165,
     "metadata": {},
     "output_type": "execute_result"
    }
   ],
   "source": [
    "final_rmse"
   ]
  },
  {
   "cell_type": "code",
   "execution_count": 166,
   "id": "d222344c",
   "metadata": {},
   "outputs": [
    {
     "data": {
      "text/plain": [
       "0.0"
      ]
     },
     "execution_count": 166,
     "metadata": {},
     "output_type": "execute_result"
    }
   ],
   "source": [
    "final_mse"
   ]
  },
  {
   "cell_type": "code",
   "execution_count": 167,
   "id": "58507662",
   "metadata": {},
   "outputs": [
    {
     "data": {
      "text/plain": [
       "array([0, 0, 1, 0, 0, 0, 0, 0, 0, 1, 0, 0, 0, 0, 0, 1, 0, 0, 0, 0, 1, 1,\n",
       "       0, 0, 0, 0, 0, 0, 0, 0, 0, 0, 0, 0, 0, 0, 0, 1, 0, 0, 0, 0, 0, 0,\n",
       "       0, 0, 1, 0, 0, 1, 0, 0, 1, 1, 0, 0, 0, 1, 0, 1, 0, 0, 0, 0, 1, 0,\n",
       "       1, 1, 0, 1, 0, 1, 1, 0, 0, 0, 1, 0, 1, 0, 0, 0, 0, 1, 1, 0, 1, 1,\n",
       "       0, 1, 0, 0, 0, 0, 0, 1, 0, 0, 0, 0, 1, 1, 0, 0, 0, 0, 1, 0, 0, 0,\n",
       "       1, 0, 0, 0, 0, 1, 0, 0, 1, 1, 0, 0, 0, 0, 0, 1, 0, 1, 0, 1, 0, 0,\n",
       "       0, 0, 0, 0, 0, 0, 1, 0, 0, 0, 0, 1, 0, 0, 0, 1, 1, 1, 0, 0, 0, 0,\n",
       "       1, 0, 0, 0, 0, 1, 0, 1, 1, 1, 0, 0, 0, 1, 0, 0, 1, 0, 0, 1, 0, 0,\n",
       "       0, 0, 1, 0, 1, 1, 1, 1, 0, 0, 0, 0, 0, 0, 0, 0, 1, 0, 0, 1, 0, 0,\n",
       "       1, 0, 1, 0, 1, 0, 1, 0, 0, 0, 0, 0, 0, 1])"
      ]
     },
     "execution_count": 167,
     "metadata": {},
     "output_type": "execute_result"
    }
   ],
   "source": [
    "final_predictions"
   ]
  },
  {
   "cell_type": "code",
   "execution_count": 168,
   "id": "c94d2cfb",
   "metadata": {},
   "outputs": [
    {
     "name": "stdout",
     "output_type": "stream",
     "text": [
      "[0, 0, 1, 0, 0, 0, 0, 0, 0, 1, 0, 0, 0, 0, 0, 1, 0, 0, 0, 0, 1, 1, 0, 0, 0, 0, 0, 0, 0, 0, 0, 0, 0, 0, 0, 0, 0, 1, 0, 0, 0, 0, 0, 0, 0, 0, 1, 0, 0, 1, 0, 0, 1, 1, 0, 0, 0, 1, 0, 1, 0, 0, 0, 0, 1, 0, 1, 1, 0, 1, 0, 1, 1, 0, 0, 0, 1, 0, 1, 0, 0, 0, 0, 1, 1, 0, 1, 1, 0, 1, 0, 0, 0, 0, 0, 1, 0, 0, 0, 0, 1, 1, 0, 0, 0, 0, 1, 0, 0, 0, 1, 0, 0, 0, 0, 1, 0, 0, 1, 1, 0, 0, 0, 0, 0, 1, 0, 1, 0, 1, 0, 0, 0, 0, 0, 0, 0, 0, 1, 0, 0, 0, 0, 1, 0, 0, 0, 1, 1, 1, 0, 0, 0, 0, 1, 0, 0, 0, 0, 1, 0, 1, 1, 1, 0, 0, 0, 1, 0, 0, 1, 0, 0, 1, 0, 0, 0, 0, 1, 0, 1, 1, 1, 1, 0, 0, 0, 0, 0, 0, 0, 0, 1, 0, 0, 1, 0, 0, 1, 0, 1, 0, 1, 0, 1, 0, 0, 0, 0, 0, 0, 1]\n"
     ]
    }
   ],
   "source": [
    "print(list(Y_test))"
   ]
  }
 ],
 "metadata": {
  "kernelspec": {
   "display_name": "Python 3 (ipykernel)",
   "language": "python",
   "name": "python3"
  },
  "language_info": {
   "codemirror_mode": {
    "name": "ipython",
    "version": 3
   },
   "file_extension": ".py",
   "mimetype": "text/x-python",
   "name": "python",
   "nbconvert_exporter": "python",
   "pygments_lexer": "ipython3",
   "version": "3.10.2"
  }
 },
 "nbformat": 4,
 "nbformat_minor": 5
}
